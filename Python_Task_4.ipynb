{
  "nbformat": 4,
  "nbformat_minor": 0,
  "metadata": {
    "colab": {
      "provenance": [],
      "authorship_tag": "ABX9TyO4+e2emQuu+xZBGGl21E8+",
      "include_colab_link": true
    },
    "kernelspec": {
      "name": "python3",
      "display_name": "Python 3"
    },
    "language_info": {
      "name": "python"
    }
  },
  "cells": [
    {
      "cell_type": "markdown",
      "metadata": {
        "id": "view-in-github",
        "colab_type": "text"
      },
      "source": [
        "<a href=\"https://colab.research.google.com/github/Sajanj708/Entri_-D30_DataScience_Python/blob/main/Python_Task_4.ipynb\" target=\"_parent\"><img src=\"https://colab.research.google.com/assets/colab-badge.svg\" alt=\"Open In Colab\"/></a>"
      ]
    },
    {
      "cell_type": "markdown",
      "source": [
        "#**Excercise 1: Create a function with a default argument.**\n",
        "\n",
        "##Write a program to create a function show_employee() uing the following conditions.\n",
        "**>** It should accept the employee's name and salary and display both.\n",
        "\n",
        "**>** if the salary is missing in the function call then assign default value 9000 to salary.\n",
        "\n",
        "**Given:**\n",
        "\n",
        "showEmployee(\"Ben\",12000)\n",
        "\n",
        "showEmployee(\"Jessa\")\n"
      ],
      "metadata": {
        "id": "yzcrqspCLTg1"
      }
    },
    {
      "cell_type": "code",
      "source": [
        "def show_employee(name,salary=9000):\n",
        "  print(f\"Name:{name} salary:{salary}\")\n",
        "  return\n",
        "\n",
        "show_employee(\"Ben\",12000)\n",
        "show_employee(\"Jessa\")"
      ],
      "metadata": {
        "colab": {
          "base_uri": "https://localhost:8080/"
        },
        "id": "LvsGNvO2MI3e",
        "outputId": "922daa0d-8605-4941-cfac-2ab8965c9ea2"
      },
      "execution_count": null,
      "outputs": [
        {
          "output_type": "stream",
          "name": "stdout",
          "text": [
            "Name:Ben salary:12000\n",
            "Name:Jessa salary:9000\n"
          ]
        }
      ]
    },
    {
      "cell_type": "markdown",
      "source": [
        "#**Excercise 2:Create an inner function to calculate the addition in the following way.**\n",
        "\n",
        "**> Create an outer function that will accept two parameters ,a and b.**\n",
        "\n",
        "\n",
        "**> Create an inner function inside an outer function that will calculate the adition of a and b.**\n",
        "\n",
        "**>At last, an outer function will add 5 into addition and erturn it.**"
      ],
      "metadata": {
        "id": "QkaqJr6pNmQ2"
      }
    },
    {
      "cell_type": "code",
      "source": [
        "def outer(a,b):\n",
        "  def inner():\n",
        "    return a+b\n",
        "  result = inner()\n",
        "  return result +5\n",
        "\n",
        "print(outer(3,4))"
      ],
      "metadata": {
        "colab": {
          "base_uri": "https://localhost:8080/"
        },
        "id": "cVcOzg-ZNEZI",
        "outputId": "9dea27e5-a6c0-4483-a679-d8dbb9820f9d"
      },
      "execution_count": null,
      "outputs": [
        {
          "output_type": "stream",
          "name": "stdout",
          "text": [
            "12\n"
          ]
        }
      ]
    },
    {
      "cell_type": "markdown",
      "source": [
        "#**Excercise 3:Generate a python list of all even numbers between 4 to 30.**"
      ],
      "metadata": {
        "id": "cTclIyLbwMS7"
      }
    },
    {
      "cell_type": "code",
      "source": [
        "my_list = [i for i in range(4,31)if i%2==0]\n",
        "print(my_list)"
      ],
      "metadata": {
        "colab": {
          "base_uri": "https://localhost:8080/"
        },
        "id": "YuwXBAY7xafr",
        "outputId": "3477b615-68ab-4b6c-e6e0-a72838ab9063"
      },
      "execution_count": null,
      "outputs": [
        {
          "output_type": "stream",
          "name": "stdout",
          "text": [
            "[4, 6, 8, 10, 12, 14, 16, 18, 20, 22, 24, 26, 28, 30]\n"
          ]
        }
      ]
    },
    {
      "cell_type": "markdown",
      "source": [
        "#**Excercise 4: Lambda Function to check if value is in a list.**\n",
        "\n",
        "##Given a list, the task is to write a python program to check if the value exists in the list or not using the lambda function.\n",
        "\n",
        "##Input : L = [1,2,3,4,5,6]\n",
        "      element = 4\n",
        "\n",
        "##Input : L = [1,2,3,4,5,6]\n",
        "      element = 8\n",
        "\n",
        "##Output : Element is NOT present in the list.      \n",
        "\n",
        "\n"
      ],
      "metadata": {
        "id": "v6vNWKcOxaUR"
      }
    },
    {
      "cell_type": "code",
      "source": [
        "L =[1,2,3,4,5,6]\n",
        "element = 4\n",
        "exists = list(filter(lambda x:x == element,L))\n",
        "element = 8\n",
        "exists = list(filter(lambda x:x == element,L))\n",
        "if exists:\n",
        "  print(\"Element is present in the list\")\n",
        "else:\n",
        "  print(\"Element is NOT present in the list\")\n",
        "\n"
      ],
      "metadata": {
        "id": "SZecE9EtOX4J",
        "colab": {
          "base_uri": "https://localhost:8080/"
        },
        "outputId": "51015f1c-9aaf-4e6b-cd58-a57025625047"
      },
      "execution_count": null,
      "outputs": [
        {
          "output_type": "stream",
          "name": "stdout",
          "text": [
            "Element is NOT present in the list\n"
          ]
        }
      ]
    },
    {
      "cell_type": "markdown",
      "source": [
        "##**Excercise 5 : Sort list of tuples with their sum.**\n",
        "\n",
        "sort the points based on their sum of elements in the tuples\n",
        "\n",
        "points = [(1,2),(5,3),(0,7),(3,1)]\n"
      ],
      "metadata": {
        "id": "zUp8NloAV5K5"
      }
    },
    {
      "cell_type": "code",
      "source": [
        "Points =[(1,2),(5,3),(0,7),(3,1)]\n",
        "sorted_points= sorted(Points,key=lambda x: sum(x))\n",
        "print(sorted_points)"
      ],
      "metadata": {
        "colab": {
          "base_uri": "https://localhost:8080/"
        },
        "id": "MWbHSuNjYT2z",
        "outputId": "3f26f0d2-f910-4dd3-f211-cb85f28c3432"
      },
      "execution_count": null,
      "outputs": [
        {
          "output_type": "stream",
          "name": "stdout",
          "text": [
            "[(1, 2), (3, 1), (0, 7), (5, 3)]\n"
          ]
        }
      ]
    },
    {
      "cell_type": "markdown",
      "source": [
        "##**Excercise : 6**\n",
        "\n",
        "##Write a python function, which will find all such numbers between 1000 and 3000(both included) such that each digit of the number is an even number.Return the result as a list."
      ],
      "metadata": {
        "id": "CKQvtulifLqW"
      }
    },
    {
      "cell_type": "code",
      "source": [
        "def find_even_numbers():\n",
        "  even_numbers=[]\n",
        "  for number in range(1000,3001):\n",
        "    str_number = str(number)\n",
        "    if all(int(digit) % 2 ==0 for digit in str_number):\n",
        "\n",
        "      even_numbers.append(number)\n",
        "  return even_numbers\n",
        "\n",
        "result =  find_even_numbers()\n",
        "print(result)"
      ],
      "metadata": {
        "colab": {
          "base_uri": "https://localhost:8080/"
        },
        "id": "5r_SkAaowWcb",
        "outputId": "c9d68478-a8bc-4e41-9636-4cb901c48c74"
      },
      "execution_count": 9,
      "outputs": [
        {
          "output_type": "stream",
          "name": "stdout",
          "text": [
            "[2000, 2002, 2004, 2006, 2008, 2020, 2022, 2024, 2026, 2028, 2040, 2042, 2044, 2046, 2048, 2060, 2062, 2064, 2066, 2068, 2080, 2082, 2084, 2086, 2088, 2200, 2202, 2204, 2206, 2208, 2220, 2222, 2224, 2226, 2228, 2240, 2242, 2244, 2246, 2248, 2260, 2262, 2264, 2266, 2268, 2280, 2282, 2284, 2286, 2288, 2400, 2402, 2404, 2406, 2408, 2420, 2422, 2424, 2426, 2428, 2440, 2442, 2444, 2446, 2448, 2460, 2462, 2464, 2466, 2468, 2480, 2482, 2484, 2486, 2488, 2600, 2602, 2604, 2606, 2608, 2620, 2622, 2624, 2626, 2628, 2640, 2642, 2644, 2646, 2648, 2660, 2662, 2664, 2666, 2668, 2680, 2682, 2684, 2686, 2688, 2800, 2802, 2804, 2806, 2808, 2820, 2822, 2824, 2826, 2828, 2840, 2842, 2844, 2846, 2848, 2860, 2862, 2864, 2866, 2868, 2880, 2882, 2884, 2886, 2888]\n"
          ]
        }
      ]
    },
    {
      "cell_type": "markdown",
      "source": [
        "#**Excercise 7:**\n",
        "Write a python function that accepts a scentence and calculate and return the number of letters and digits.\n",
        "\n",
        "Suppose the following input is supplied to the program:\n",
        "\n",
        "hello world!123\n",
        "\n",
        "Then, the output should be:\n",
        "\n",
        "LETTERS 10\n",
        "\n",
        "DIGITS 3"
      ],
      "metadata": {
        "id": "lT8tdqofEbAJ"
      }
    },
    {
      "cell_type": "code",
      "source": [
        "def count_letters_and_digits(sentence):\n",
        "  letters = sum(char.isalpha()for char in sentence)\n",
        "  digits = sum(char.isdigit() for char in sentence)\n",
        "  return letters,digits\n",
        "\n",
        "sentence = \"hello world!123\"\n",
        "letters,digits =count_letters_and_digits(sentence)\n",
        "print(f\"LETTERS {letters}\")\n",
        "print(f\"DIGITS {digits}\")\n"
      ],
      "metadata": {
        "colab": {
          "base_uri": "https://localhost:8080/"
        },
        "id": "IhInA-lcQjS0",
        "outputId": "bf51a0cf-42aa-4d4a-a166-afe45f793fa1"
      },
      "execution_count": null,
      "outputs": [
        {
          "output_type": "stream",
          "name": "stdout",
          "text": [
            "LETTERS 10\n",
            "DIGITS 3\n"
          ]
        }
      ]
    },
    {
      "cell_type": "markdown",
      "source": [
        "##**Excercise 8 MAP:**\n",
        "\n",
        "Write a python program to convert all the characters into uppercase and lowercase and eliminate duplicate letters from a given sequence.use the map() function"
      ],
      "metadata": {
        "id": "TZ3_6pNQW1bh"
      }
    },
    {
      "cell_type": "code",
      "source": [
        "def upper_and_lower(s):\n",
        "\n",
        "\n",
        "#convert uppercase to lowercase\n",
        "  upper = s.upper()\n",
        "  lower = s.lower()\n",
        "#Eliminate duplicate letters\n",
        "  unique_upper = ''.join(sorted(set(upper),key=upper.index))\n",
        "  unique_lower = ''.join(sorted(set(lower),key=lower.index))\n",
        "  return unique_upper,unique_lower\n",
        "\n",
        "#Sample sequence\n",
        "\n",
        "sequence = \"Hello World\"\n",
        "\n",
        "#Use map function to apply upper_and_lower to the sequence\n",
        "result = list(map(upper_and_lower,[sequence]))[0]\n",
        "\n",
        "#print result\n",
        "print(\"uppercase without duplicates:\", result[0])\n",
        "print(\"Lowercase without duplicates:\",result[1])\n"
      ],
      "metadata": {
        "colab": {
          "base_uri": "https://localhost:8080/"
        },
        "id": "NbdmeTONYlko",
        "outputId": "71477c1d-f830-472f-df48-48f05bcbf879"
      },
      "execution_count": null,
      "outputs": [
        {
          "output_type": "stream",
          "name": "stdout",
          "text": [
            "uppercase without duplicates: HELO WRD\n",
            "Lowercase without duplicates: helo wrd\n"
          ]
        }
      ]
    },
    {
      "cell_type": "code",
      "source": [],
      "metadata": {
        "id": "CNhK2LOydJvP"
      },
      "execution_count": null,
      "outputs": []
    },
    {
      "cell_type": "markdown",
      "source": [
        "#**Excercise 9 MAP:**\n",
        "Write a python program to element wise add two given lists and find the difference between them. use the map() function"
      ],
      "metadata": {
        "id": "VST8Bzz3d34B"
      }
    },
    {
      "cell_type": "code",
      "source": [
        "#Function to add two numbers\n",
        "\n",
        "def add(x,y):\n",
        "  return x+y\n",
        "\n",
        "#Function to subtract two numbers\n",
        "\n",
        "def subtract(x,y):\n",
        "  return x-y\n",
        "\n",
        "list1 = [1,2,3,4,5]\n",
        "list2 = [5,4,3,2,1]\n",
        "\n",
        "#Use map function to apply add and subtract element-wise\n",
        "\n",
        "added_list = list(map(add,list1,list2))\n",
        "subtracted_list = list((map(subtract,list1,list2)))\n",
        "\n",
        "#print result\n",
        "print(\"Element-wise addition:\",added_list)\n",
        "print(\"Element-wise subtraction\",subtracted_list)"
      ],
      "metadata": {
        "colab": {
          "base_uri": "https://localhost:8080/"
        },
        "id": "QImqU5WCec0j",
        "outputId": "16f686aa-0473-4af5-86f2-6c300a4e2d23"
      },
      "execution_count": null,
      "outputs": [
        {
          "output_type": "stream",
          "name": "stdout",
          "text": [
            "Element-wise addition: [6, 6, 6, 6, 6]\n",
            "Element-wise subtraction [-4, -2, 0, 2, 4]\n"
          ]
        }
      ]
    },
    {
      "cell_type": "markdown",
      "source": [
        "##**Excercise 10 Filter:**\n",
        "Write a python program to filter the height and weight of students,which are stored in a dictionary using lambda.\n",
        "\n",
        "Original Dictionary:\n",
        "\n",
        "{'Cierra vega':(6.2,71),'Alden Cantrell':(5.9,65),'Kierra Gentry':(6.0,68),\n",
        "'Pierre Cox':(5.8,66)}\n",
        "\n",
        "Height>6ft and Weight>70kg:\n",
        "\n",
        "{'Cierra Vega':(6.2,71)}"
      ],
      "metadata": {
        "id": "S746tE6zgxbc"
      }
    },
    {
      "cell_type": "code",
      "source": [
        "students ={\n",
        "    'Cierra Vega':(6.2,71),\n",
        "    'Alden Cantrell':(5.9,65),\n",
        "    'Kierra Gentry':(6.0,68),\n",
        "    'Pierre Cox':(5.8,66)\n",
        "}\n",
        "\n",
        "                                                                                        #Filter function using lambda\n",
        "students=dict(filter(lambda item: item[1][0]>6 and item[1][1] > 70,students.items()))\n",
        "                                                                                        #print results\n",
        "print(\"Height > 6ft and weight >70kg:\")\n",
        "print(students)"
      ],
      "metadata": {
        "colab": {
          "base_uri": "https://localhost:8080/"
        },
        "id": "JofjOSxFgsJU",
        "outputId": "149149e7-6114-42d8-d251-8250c6281e2d"
      },
      "execution_count": null,
      "outputs": [
        {
          "output_type": "stream",
          "name": "stdout",
          "text": [
            "Height > 6ft and weight >70kg:\n",
            "{'Cierra Vega': (6.2, 71)}\n"
          ]
        }
      ]
    },
    {
      "cell_type": "markdown",
      "source": [
        "#**Excercise 11 Filter:**\n",
        "Write a python program to remove all elements from a given list present in another list using lambda.\n",
        "\n",
        "Original lists:\n",
        "\n",
        "list 1:[1,2,3,4,5,6,7,8,9,10]\n",
        "\n",
        "list2:[2,4,6,8]\n",
        "\n",
        "Remove all elements from 'list1' present in 'list2':\n",
        "\n",
        "[1,3,5,7,9,10]"
      ],
      "metadata": {
        "id": "NSRnYfGWmNif"
      }
    },
    {
      "cell_type": "code",
      "source": [
        "list1 = [1,2,3,4,5,6,7,8,9,10]\n",
        "list2 = [2,4,6,8]\n",
        "\n",
        "#Use filter and lambda to remove elements elements from list1 that are present in list2\n",
        "\n",
        "filtered_list = list(filter(lambda x:x not in list2 ,list1))\n",
        "print(\"Remove all elements from 'lists1' present in 'list2':\")\n",
        "print(filtered_list)"
      ],
      "metadata": {
        "colab": {
          "base_uri": "https://localhost:8080/"
        },
        "id": "sMd3ScylmGRp",
        "outputId": "5d040945-19e3-4bf8-c237-221288cd540c"
      },
      "execution_count": null,
      "outputs": [
        {
          "output_type": "stream",
          "name": "stdout",
          "text": [
            "Remove all elements from 'lists1' present in 'list2':\n",
            "[1, 3, 5, 7, 9, 10]\n"
          ]
        }
      ]
    },
    {
      "cell_type": "markdown",
      "source": [
        "#**Excercise 12 Reduce:**\n",
        "Write a python program to calculate the product of a given list of numbers using lambda.\n",
        "\n",
        "list1:[1,2,3,4,5,6,7,8,9,10]\n",
        "\n",
        "product of the said list numbers:\n",
        "\n",
        "3628800"
      ],
      "metadata": {
        "id": "KopJ23U1q0su"
      }
    },
    {
      "cell_type": "code",
      "source": [
        "from functools import reduce\n",
        "list1=[1,2,3,4,5,6,7,8,9,10]\n",
        "#Calculate the product using reduce and lambda\n",
        "product = reduce(lambda x,y:x*y,list1)\n",
        "\n",
        "print(\"Product of the said list numbers:\")\n",
        "print(product)"
      ],
      "metadata": {
        "colab": {
          "base_uri": "https://localhost:8080/"
        },
        "id": "XkN5u7SYq0dk",
        "outputId": "4d2fe464-d0c7-42d1-b6c2-afee7dd6a1b4"
      },
      "execution_count": null,
      "outputs": [
        {
          "output_type": "stream",
          "name": "stdout",
          "text": [
            "Product of the said list numbers:\n",
            "3628800\n"
          ]
        }
      ]
    },
    {
      "cell_type": "markdown",
      "source": [
        "#**Excercise 13 Reduce:**\n",
        "Write a python program to multiply all the numbers in a given list using lambda.\n",
        "\n",
        "Original list:\n",
        "\n",
        "[4,3,2,2,-1,18]\n",
        "\n",
        "multiply all the numbers of the said list:-864"
      ],
      "metadata": {
        "id": "6IHJsNoApjfR"
      }
    },
    {
      "cell_type": "code",
      "source": [
        "from functools import reduce\n",
        "list1 = [4,3,2,2,-1,18]\n",
        "\n",
        "#Calculate the product using reduce and lambda\n",
        "\n",
        "product = reduce(lambda x,y:x*y,list1)\n",
        "\n",
        "print(\"Original list\")\n",
        "print(list1)\n",
        "print(\"Multiply all the numbers of the said list:\")\n",
        "print(product)"
      ],
      "metadata": {
        "colab": {
          "base_uri": "https://localhost:8080/"
        },
        "id": "J05VmbFdpcrx",
        "outputId": "33a6a659-f186-499e-c6bc-f03bdbe6da64"
      },
      "execution_count": null,
      "outputs": [
        {
          "output_type": "stream",
          "name": "stdout",
          "text": [
            "Original list\n",
            "[4, 3, 2, 2, -1, 18]\n",
            "Multiply all the numbers of the said list:\n",
            "-864\n"
          ]
        }
      ]
    },
    {
      "cell_type": "code",
      "source": [],
      "metadata": {
        "id": "EhoEijrfwf0L"
      },
      "execution_count": null,
      "outputs": []
    },
    {
      "cell_type": "markdown",
      "source": [
        "#**Excercise 14 Reduce**:\n",
        "Write a python program to calaculate the average value  of the numbers in a given tuple of tuples using lambda.\n",
        "\n",
        "Original Tuple:\n",
        "\n",
        "((10,10,10),(30,45,56),(81,80,.39),(1,2,3))\n",
        "\n",
        "\n",
        "Average value of the numbers of the said tuple of tuples:\n",
        "\n",
        "(30.5,34.25,27.0)"
      ],
      "metadata": {
        "id": "GFnkklFdwlsO"
      }
    },
    {
      "cell_type": "code",
      "source": [
        "from functools import reduce\n",
        "tuple_of_tuples = ((10,10,10),(30,45,56),(81,80,39),(1,2,3))\n",
        "\n",
        "#Calculate the average value using reduce and lambda\n",
        "average_values =tuple(map(lambda nums:round(sum(nums)/len(nums),2),zip(*tuple_of_tuples)))\n",
        "\n",
        "#print the result\n",
        "print(\"Original Tuple:\")\n",
        "print(tuple_of_tuples)\n",
        "print(\"Average value of the numbers of the said tuple of tuples:\")\n",
        "print(average_values)"
      ],
      "metadata": {
        "colab": {
          "base_uri": "https://localhost:8080/"
        },
        "id": "PzHUCTYgxltt",
        "outputId": "313d6cbc-17ca-4648-9fa9-af04d554ce80"
      },
      "execution_count": null,
      "outputs": [
        {
          "output_type": "stream",
          "name": "stdout",
          "text": [
            "Original Tuple:\n",
            "((10, 10, 10), (30, 45, 56), (81, 80, 39), (1, 2, 3))\n",
            "Average value of the numbers of the said tuple of tuples:\n",
            "(30.5, 34.25, 27.0)\n"
          ]
        }
      ]
    },
    {
      "cell_type": "markdown",
      "source": [
        "#**Excercise 15:**\n",
        "Write  a python program to sort a given mixed list of integers and strings using lambda. Numbers must be sorted before strings.\n",
        "\n",
        "Original list:\n",
        "\n",
        "[19 ,'red' ,12 ,'green',  'blue', 10,  'white' , 'green' ,1]\n",
        "\n",
        "sort the said mixed list of intergers and strings:\n",
        "\n",
        "[1, 10, 12, 19, 'blue', 'green', 'green', 'red', 'white']"
      ],
      "metadata": {
        "id": "fPEMY6uf36iP"
      }
    },
    {
      "cell_type": "code",
      "source": [
        "List = [19,'red',12,'green','blue',10,'white','green',1]\n",
        "numbers = sorted([x for x in List if isinstance(x, int)])\n",
        "strings = sorted([x for x in List if isinstance(x, str)])\n",
        "sorted_list = numbers + strings\n",
        "\n",
        "print(\"Original list:\")\n",
        "print(List)\n",
        "print(\"sorted_list:\")\n",
        "print(sorted_list)\n",
        "\n"
      ],
      "metadata": {
        "id": "q6glp-SGziXV",
        "colab": {
          "base_uri": "https://localhost:8080/"
        },
        "outputId": "1f428eac-e34a-4e62-bd38-bd26df34014b"
      },
      "execution_count": 4,
      "outputs": [
        {
          "output_type": "stream",
          "name": "stdout",
          "text": [
            "Original list:\n",
            "[19, 'red', 12, 'green', 'blue', 10, 'white', 'green', 1]\n",
            "sorted_list:\n",
            "[1, 10, 12, 19, 'blue', 'green', 'green', 'red', 'white']\n"
          ]
        }
      ]
    },
    {
      "cell_type": "markdown",
      "source": [
        "#**Excercise 16 :**\n",
        "Write a python program to count the occurences of items in a given list using lambda.\n",
        "\n",
        "Original list:\n",
        "\n",
        "[3, 4 ,5 ,8 ,0 ,3 ,8 ,5 ,0 ,3 ,1 ,5 ,2 ,3 ,4 ,2]\n",
        "\n",
        "Count the occurences of items in the said list:\n",
        "\n",
        "{3:4, 4:2 ,5:3 ,8:2 ,0:2 ,1:1 ,2:2}"
      ],
      "metadata": {
        "id": "IjzSbMQj8uKN"
      }
    },
    {
      "cell_type": "code",
      "source": [
        "from functools import reduce\n",
        "Original_list = [3,4,5,8,0,3,8,5,0,3,1,5,2,3,4,2]\n",
        "\n",
        "#use reduce and lambda to count occurences\n",
        "\n",
        "count_dict = reduce(lambda acc, x:{**acc, x: acc.get(x,0) + 1},Original_list,{})\n",
        "\n",
        "print(\"Original_list:\")\n",
        "print(Original_list)\n",
        "print(\"Count the occurences of the items in the said list:\")\n",
        "print(count_dict)"
      ],
      "metadata": {
        "colab": {
          "base_uri": "https://localhost:8080/"
        },
        "id": "uItbgqly7fbI",
        "outputId": "643e8775-b6b6-4a28-bb58-447b8bc78dea"
      },
      "execution_count": 5,
      "outputs": [
        {
          "output_type": "stream",
          "name": "stdout",
          "text": [
            "Original_list:\n",
            "[3, 4, 5, 8, 0, 3, 8, 5, 0, 3, 1, 5, 2, 3, 4, 2]\n",
            "Count the occurences of the items in the said list:\n",
            "{3: 4, 4: 2, 5: 3, 8: 2, 0: 2, 1: 1, 2: 2}\n"
          ]
        }
      ]
    },
    {
      "cell_type": "code",
      "source": [],
      "metadata": {
        "id": "HrldWHot_v6-"
      },
      "execution_count": null,
      "outputs": []
    },
    {
      "cell_type": "markdown",
      "source": [
        "#**Excercise 17:**\n",
        "Write a python program to remove None values from a given list using the lambda function.\n",
        "\n",
        "Original list:\n",
        "\n",
        "[12, 0 , None, 23, None, -55, 234, 89, None, 0, 6, -12]\n",
        "\n",
        "Remove None value from the said list:\n",
        "\n",
        "[12, 0, 23, -55, 234, 89, 0, 6, -12]"
      ],
      "metadata": {
        "id": "fwTHwBNR_y9Q"
      }
    },
    {
      "cell_type": "code",
      "source": [
        "Original_list = [12, 0, None, 23, None, -55, 234, 89, None, 0, 6, -12]\n",
        "\n",
        "#Use filter and lambda to remove None values\n",
        "\n",
        "filtered_list = list(filter(lambda x:x is not None,Original_list))\n",
        "\n",
        "print(\"Original_list:\")\n",
        "print(Original_list)\n",
        "print(\"Remove None values from the said list:\")\n",
        "print(filtered_list)\n"
      ],
      "metadata": {
        "colab": {
          "base_uri": "https://localhost:8080/"
        },
        "id": "q4paGdAuAxVy",
        "outputId": "3cc33337-eb1e-484b-9f69-1888267b164c"
      },
      "execution_count": 6,
      "outputs": [
        {
          "output_type": "stream",
          "name": "stdout",
          "text": [
            "Original_list:\n",
            "[12, 0, None, 23, None, -55, 234, 89, None, 0, 6, -12]\n",
            "Remove None values from the said list:\n",
            "[12, 0, 23, -55, 234, 89, 0, 6, -12]\n"
          ]
        }
      ]
    }
  ]
}