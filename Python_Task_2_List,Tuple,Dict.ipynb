{
  "nbformat": 4,
  "nbformat_minor": 0,
  "metadata": {
    "colab": {
      "provenance": [],
      "authorship_tag": "ABX9TyO2BVJB3Iw3/TvqtikLXbq7",
      "include_colab_link": true
    },
    "kernelspec": {
      "name": "python3",
      "display_name": "Python 3"
    },
    "language_info": {
      "name": "python"
    }
  },
  "cells": [
    {
      "cell_type": "markdown",
      "metadata": {
        "id": "view-in-github",
        "colab_type": "text"
      },
      "source": [
        "<a href=\"https://colab.research.google.com/github/Sajanj708/Entri_-D30_DataScience_Python/blob/main/Python_Task_2_List%2CTuple%2CDict.ipynb\" target=\"_parent\"><img src=\"https://colab.research.google.com/assets/colab-badge.svg\" alt=\"Open In Colab\"/></a>"
      ]
    },
    {
      "cell_type": "markdown",
      "source": [
        "# **LIST**,**TUPLE**,**DICTIONARY**"
      ],
      "metadata": {
        "id": "Uccm_qVZxVZW"
      }
    },
    {
      "cell_type": "markdown",
      "source": [
        "#**1. Write a python program to sum all items in a list.**"
      ],
      "metadata": {
        "id": "T_A6XfjHxRCV"
      }
    },
    {
      "cell_type": "code",
      "source": [
        "list = [1,2,3,4,5]\n",
        "total = sum(list)\n",
        "print(\" The sum of the list is:\",total)\n"
      ],
      "metadata": {
        "colab": {
          "base_uri": "https://localhost:8080/"
        },
        "id": "Di6OBfBNxhHv",
        "outputId": "0a08139c-52a2-44e1-8918-51746d30e487"
      },
      "execution_count": null,
      "outputs": [
        {
          "output_type": "stream",
          "name": "stdout",
          "text": [
            " The sum of the list is: 15\n"
          ]
        }
      ]
    },
    {
      "cell_type": "markdown",
      "source": [
        "# **2. Write a python program to get the largest number from a list.**"
      ],
      "metadata": {
        "id": "QCTcWouuEpYT"
      }
    },
    {
      "cell_type": "code",
      "source": [
        "list = [11,33,223,44,55]\n",
        "largest = max(list)\n",
        "print(\"The largest number in the list is\", largest)"
      ],
      "metadata": {
        "colab": {
          "base_uri": "https://localhost:8080/"
        },
        "id": "SsOvQz2P3sXa",
        "outputId": "c61b91f6-ea38-4719-9d17-c513856365e8"
      },
      "execution_count": null,
      "outputs": [
        {
          "output_type": "stream",
          "name": "stdout",
          "text": [
            "The largest number in the list is 223\n"
          ]
        }
      ]
    },
    {
      "cell_type": "markdown",
      "source": [
        "#**3. write a python program  to count the number of strings from a given list of strings.The string length is 2 or more the first and last characters are the same.**\n",
        "\n",
        "#Sample List : ['abc','xyz','aba','1221']\n",
        "\n",
        "#Expected Result:2"
      ],
      "metadata": {
        "id": "dBGCSQEgE63L"
      }
    },
    {
      "cell_type": "code",
      "source": [
        "string_list = [ 'abc','xyz','aba','1221']\n",
        "count = 0\n",
        "for string in string_list:\n",
        "  if (len(string) >=2 and string[0] == string[-1]):\n",
        "    count += 1\n",
        "print(f\"Number of strings that meet the conditions:{count}\")\n"
      ],
      "metadata": {
        "id": "xQ-4Hu9D5deP",
        "colab": {
          "base_uri": "https://localhost:8080/"
        },
        "outputId": "adcd255f-8627-4d11-e2ee-a1fc5bf71731"
      },
      "execution_count": null,
      "outputs": [
        {
          "output_type": "stream",
          "name": "stdout",
          "text": [
            "Number of strings that meet the conditions:2\n"
          ]
        }
      ]
    },
    {
      "cell_type": "markdown",
      "source": [
        "# **4.write a python program to remove duplicates from the list.**\n",
        "\n"
      ],
      "metadata": {
        "id": "3yQFaalYFpjs"
      }
    },
    {
      "cell_type": "code",
      "source": [
        "list = [1,2,2,3,4,4,5,6,6,7]\n",
        "new_list = []\n",
        "remove_duplicates = set(list)\n",
        "print(\"List without duplicates:\",remove_duplicates)\n"
      ],
      "metadata": {
        "colab": {
          "base_uri": "https://localhost:8080/"
        },
        "id": "kNihA9t8dGiz",
        "outputId": "78366941-fcb5-4cd5-c5d7-afccdef7f1b9"
      },
      "execution_count": null,
      "outputs": [
        {
          "output_type": "stream",
          "name": "stdout",
          "text": [
            "List without duplicates: {1, 2, 3, 4, 5, 6, 7}\n"
          ]
        }
      ]
    },
    {
      "cell_type": "markdown",
      "source": [
        "# **5.write a python program to check if a list is empty or not.**"
      ],
      "metadata": {
        "id": "2Bdj5cs0gl1A"
      }
    },
    {
      "cell_type": "code",
      "source": [
        "list = [1,2,3,4,5,6,7]\n",
        "if not list:\n",
        "  print(\"The list is empty\")\n",
        "else:\n",
        "  print(\"The list is not empty\")"
      ],
      "metadata": {
        "colab": {
          "base_uri": "https://localhost:8080/"
        },
        "id": "ZyqW67ELesPE",
        "outputId": "cc39154b-d9e0-4aa2-9cb5-81910497a9a3"
      },
      "execution_count": null,
      "outputs": [
        {
          "output_type": "stream",
          "name": "stdout",
          "text": [
            "The list is not empty\n"
          ]
        }
      ]
    },
    {
      "cell_type": "markdown",
      "source": [
        "# **6.Write a python program to filter the list if the length of the character is < 4 .**\n",
        "# **Sample List : ['abc','xyz','aba',1221']**\n",
        "\n",
        "#**Expected List:['abc','xyz','aba']**"
      ],
      "metadata": {
        "id": "Bvf02si3hfaq"
      }
    },
    {
      "cell_type": "code",
      "source": [
        "sample_list = ['abc','xyz','aba','1221']\n",
        "filtered_list = [item for item in sample_list if len(item)< 4]\n",
        "print(filtered_list)\n"
      ],
      "metadata": {
        "colab": {
          "base_uri": "https://localhost:8080/"
        },
        "id": "XCM6yOMZhGe2",
        "outputId": "d2e84cee-2889-4934-846a-7b68e1ad6471"
      },
      "execution_count": null,
      "outputs": [
        {
          "output_type": "stream",
          "name": "stdout",
          "text": [
            "['abc', 'xyz', 'aba']\n"
          ]
        }
      ]
    },
    {
      "cell_type": "markdown",
      "source": [
        "# **7. write a python program to find the second largest number in a list.**"
      ],
      "metadata": {
        "id": "IEttBA_BRBcC"
      }
    },
    {
      "cell_type": "code",
      "source": [
        "number = [22,45,36,48,69,68,71]\n",
        "number.sort()\n",
        "second_largest = number[-2]\n",
        "print(\"The second largest number in the list is:\",second_largest)"
      ],
      "metadata": {
        "id": "-21WS-k_jSkU",
        "colab": {
          "base_uri": "https://localhost:8080/"
        },
        "outputId": "82d70a10-4d35-4e78-888c-9994311e1317"
      },
      "execution_count": null,
      "outputs": [
        {
          "output_type": "stream",
          "name": "stdout",
          "text": [
            "The second largest number in the list is: 69\n"
          ]
        }
      ]
    },
    {
      "cell_type": "markdown",
      "source": [
        "# **8. Write a python program to reverse a list at a specific location.**"
      ],
      "metadata": {
        "id": "sWcGuAzQSmdQ"
      }
    },
    {
      "cell_type": "code",
      "source": [
        "list = [1,2,3,4,5,6,7]\n",
        "list.reverse()\n",
        "print(list)"
      ],
      "metadata": {
        "colab": {
          "base_uri": "https://localhost:8080/"
        },
        "id": "FVyU-UxgSJh2",
        "outputId": "90d233f4-4747-40de-8ff1-f1a8b68449ff"
      },
      "execution_count": null,
      "outputs": [
        {
          "output_type": "stream",
          "name": "stdout",
          "text": [
            "[7, 6, 5, 4, 3, 2, 1]\n"
          ]
        }
      ]
    },
    {
      "cell_type": "markdown",
      "source": [
        "# **9.Write a python program to check if a list is palindrome or not.Return true otherwise false.**"
      ],
      "metadata": {
        "id": "aUy7l_aeTQ8p"
      }
    },
    {
      "cell_type": "code",
      "source": [
        "def is_palindrome(list):\n",
        "  return True == list[::-1]\n",
        "  return False != list[::-1]\n",
        "\n",
        "list = [1,2,3,4,3,2,1]\n",
        "\n",
        "\n",
        "if list == list[::-1]:\n",
        "\n",
        "  print(\"The list is palindrome:\",True)\n",
        "\n",
        "\n",
        "else:\n",
        "  print(\"The list is not palindrome:\",False)\n",
        "\n",
        "\n",
        "\n"
      ],
      "metadata": {
        "colab": {
          "base_uri": "https://localhost:8080/"
        },
        "id": "7HtcFlSeTNZm",
        "outputId": "e72f0229-cf4f-4a15-e155-6e4c1ba983d9"
      },
      "execution_count": null,
      "outputs": [
        {
          "output_type": "stream",
          "name": "stdout",
          "text": [
            "The list is palindrome: True\n"
          ]
        }
      ]
    },
    {
      "cell_type": "markdown",
      "source": [
        "# **10.Write a python program to find the union and intersection of two list.**"
      ],
      "metadata": {
        "id": "D4Sfdcix9FBJ"
      }
    },
    {
      "cell_type": "code",
      "source": [
        "def union(list_1,list_2):     #define union and intersection\n",
        "  union =set (list_1 + list_2)\n",
        "  return union\n",
        "def intersection(list_1,list_2):\n",
        "  intersection = set(list_1) & set(list_2)\n",
        "  return intersection\n",
        "\n",
        "list_1 =[1,2,3,4,5]\n",
        "list_2 = [1,3,5,7,9]\n",
        "print(union(list_1,list_2))\n",
        "print(intersection(list_1,list_2))\n"
      ],
      "metadata": {
        "id": "yRRn4KynUdOQ",
        "colab": {
          "base_uri": "https://localhost:8080/"
        },
        "outputId": "5a1ec748-50e8-49b4-dafe-2c2220b52487"
      },
      "execution_count": null,
      "outputs": [
        {
          "output_type": "stream",
          "name": "stdout",
          "text": [
            "{1, 2, 3, 4, 5, 7, 9}\n",
            "{1, 3, 5}\n"
          ]
        }
      ]
    },
    {
      "cell_type": "markdown",
      "source": [
        "# **11.Write a python script to sort(ascending and descending) a dictionary by value.**"
      ],
      "metadata": {
        "id": "pSgzVxyoAntV"
      }
    },
    {
      "cell_type": "code",
      "source": [
        "fruits = {'appple':100,'mango':150,'orange':250,'papaya':50}\n",
        "print(sorted(fruits.items(),key = lambda item:item[1]))\n",
        "print(sorted(fruits.items(),key = lambda item:item[1],reverse = True))\n",
        "\n"
      ],
      "metadata": {
        "colab": {
          "base_uri": "https://localhost:8080/"
        },
        "id": "6unBZkvI_j5D",
        "outputId": "b70ec8a5-6a27-4f82-8a5f-bc9b027ce227"
      },
      "execution_count": null,
      "outputs": [
        {
          "output_type": "stream",
          "name": "stdout",
          "text": [
            "[('papaya', 50), ('appple', 100), ('mango', 150), ('orange', 250)]\n",
            "[('orange', 250), ('mango', 150), ('appple', 100), ('papaya', 50)]\n"
          ]
        }
      ]
    },
    {
      "cell_type": "markdown",
      "source": [
        "# **12.Write a python script to check whether  a given key already exists in a dictionary.**"
      ],
      "metadata": {
        "id": "EEnUoR4O6hxp"
      }
    },
    {
      "cell_type": "code",
      "source": [
        "mydict={'apple':100\n",
        "        ,'orange':250\n",
        "        ,'banana':50\n",
        "        ,'pineapple':50}\n",
        "key_to_check = 'orange'\n",
        "if key_to_check in mydict:\n",
        "  print(f\"The key'{key_to_check}'exists in the dictionary.\")\n",
        "else:\n",
        "  print(f\"The key'{key_to_check}'does not exist in the dictionary.\")\n",
        "\n"
      ],
      "metadata": {
        "colab": {
          "base_uri": "https://localhost:8080/"
        },
        "id": "aSm0rxGP64pW",
        "outputId": "ffc94e88-2a52-4a59-b3fd-56c025030f0a"
      },
      "execution_count": null,
      "outputs": [
        {
          "output_type": "stream",
          "name": "stdout",
          "text": [
            "The key'orange'exists in the dictionary.\n"
          ]
        }
      ]
    },
    {
      "cell_type": "markdown",
      "source": [
        "# **13.Write a python program to sum all values in a dictionary.**"
      ],
      "metadata": {
        "id": "fgA2K24y-1TZ"
      }
    },
    {
      "cell_type": "code",
      "source": [
        "mydict={'a':15,'b':35,'c':2,'d':3}\n",
        "sum_values = sum(mydict.values())\n",
        "print(sum_values)\n"
      ],
      "metadata": {
        "colab": {
          "base_uri": "https://localhost:8080/"
        },
        "id": "r-eawe4e_X4X",
        "outputId": "10d4fc40-8aba-462a-e6da-b5907cf369a8"
      },
      "execution_count": null,
      "outputs": [
        {
          "output_type": "stream",
          "name": "stdout",
          "text": [
            "55\n"
          ]
        }
      ]
    },
    {
      "cell_type": "markdown",
      "source": [
        "#**14.write a python  program to create a dictionary with a number and its corresponding square from 1 to input  number.And also check if the input number is less than 10**.\n",
        "\n",
        "Eg:\n",
        "\n",
        "Input:3\n",
        "\n",
        "Output :{1:1, 2:4 ,3:9}\n",
        "\n"
      ],
      "metadata": {
        "id": "N5qelJBML3-k"
      }
    },
    {
      "cell_type": "code",
      "source": [
        "def square_dict(n):\n",
        "  if n<10:\n",
        "    print(\"Input number is less than 10\")\n",
        "  square_dict = {i:i**2 for  i in range(1,n+1)}\n",
        "  return square_dict\n",
        "\n",
        "\n",
        "\n",
        "\n",
        "num_input = 3\n",
        "result =square_dict(num_input)\n",
        "print(result)\n",
        "\n",
        ""
      ],
      "metadata": {
        "id": "1Sd49akWM6xI",
        "colab": {
          "base_uri": "https://localhost:8080/"
        },
        "outputId": "86eaf185-02fd-48b5-b486-06390a965a05"
      },
      "execution_count": 16,
      "outputs": [
        {
          "output_type": "stream",
          "name": "stdout",
          "text": [
            "Input number is less than 10\n",
            "{1: 1, 2: 4, 3: 9}\n"
          ]
        }
      ]
    },
    {
      "cell_type": "markdown",
      "source": [
        "#**15.Write a python program to sort a given dictionary by key.**\n"
      ],
      "metadata": {
        "id": "D88-o3MNNG2d"
      }
    },
    {
      "cell_type": "code",
      "source": [
        "def sort_dict(my_dict):\n",
        "  return dict(sorted(my_dict.items()))\n",
        "\n",
        "my_dict = {'apple':100,'orange':250,'banana':150,'pineapple':110}\n",
        "sorted_dict = sort_dict(my_dict)\n",
        "print(sorted_dict)"
      ],
      "metadata": {
        "id": "F8qN3H7CNZHz",
        "colab": {
          "base_uri": "https://localhost:8080/"
        },
        "outputId": "3f9ad214-fa5e-4804-f298-f4d850893982"
      },
      "execution_count": 20,
      "outputs": [
        {
          "output_type": "stream",
          "name": "stdout",
          "text": [
            "{'apple': 100, 'banana': 150, 'orange': 250, 'pineapple': 110}\n"
          ]
        }
      ]
    },
    {
      "cell_type": "markdown",
      "source": [
        "# **16.Write a python program to create a dictionary from a string**.\n",
        "NOTE:Track the count of the letters from the string.\n",
        "\n",
        "Sample string:  'learnpython'\n"
      ],
      "metadata": {
        "id": "ukriAJUlFNoG"
      }
    },
    {
      "cell_type": "code",
      "source": [
        "def count_letters(s):\n",
        "  letter_count = {}\n",
        "  for letter in s:\n",
        "    if letter in letter_count:\n",
        "      letter_count[letter]+=1\n",
        "    else:\n",
        "        letter_count[letter]=1\n",
        "  return letter_count\n",
        "s = 'learnpython'\n",
        "result = count_letters(s)\n",
        "print(result)\n"
      ],
      "metadata": {
        "colab": {
          "base_uri": "https://localhost:8080/"
        },
        "id": "7l_8K9uKHTqL",
        "outputId": "13bcc10a-23e2-447e-bb1d-0dcbbea9302a"
      },
      "execution_count": null,
      "outputs": [
        {
          "output_type": "stream",
          "name": "stdout",
          "text": [
            "{'l': 1, 'e': 1, 'a': 1, 'r': 1, 'n': 2, 'p': 1, 'y': 1, 't': 1, 'h': 1, 'o': 1}\n"
          ]
        }
      ]
    },
    {
      "cell_type": "code",
      "source": [],
      "metadata": {
        "id": "H7KllkdFLQYk"
      },
      "execution_count": null,
      "outputs": []
    },
    {
      "cell_type": "markdown",
      "source": [
        "#**17.Write a python program to get the top three items in a shop.**\n",
        "Sample data:{'item1':45.50, 'item2':35, 'item3:41.30 , 'item4':55, 'item5':24}\n",
        "\n",
        "\n",
        "Expected Output:\n",
        "\n",
        "item4 55\n",
        "\n",
        "item1 45.5\n",
        "\n",
        "item3 41.3"
      ],
      "metadata": {
        "id": "D8xv6Vu5LpUC"
      }
    },
    {
      "cell_type": "code",
      "source": [
        "my_dict = {'item1':45.5,'item2':35,'item3':41.3,'item4':55,'item5':24} #we want to get top three items.\n",
        "items = sorted(my_dict.items(),key=lambda x:x[1],reverse=True)\n",
        "print(items[:3])"
      ],
      "metadata": {
        "id": "xX1ZJcFhOrqK",
        "colab": {
          "base_uri": "https://localhost:8080/"
        },
        "outputId": "f4e3cc79-a99e-4f98-9f4b-c1e595932262"
      },
      "execution_count": 24,
      "outputs": [
        {
          "output_type": "stream",
          "name": "stdout",
          "text": [
            "[('item4', 55), ('item1', 45.5), ('item3', 41.3)]\n"
          ]
        }
      ]
    }
  ]
}